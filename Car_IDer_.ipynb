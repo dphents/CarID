{
  "nbformat": 4,
  "nbformat_minor": 0,
  "metadata": {
    "colab": {
      "name": "Car IDer .ipynb",
      "provenance": [],
      "collapsed_sections": [],
      "machine_shape": "hm",
      "authorship_tag": "ABX9TyPJrbhq96KPrfqIxdLU/mYZ",
      "include_colab_link": true
    },
    "kernelspec": {
      "name": "python3",
      "display_name": "Python 3"
    },
    "accelerator": "GPU"
  },
  "cells": [
    {
      "cell_type": "markdown",
      "metadata": {
        "id": "view-in-github",
        "colab_type": "text"
      },
      "source": [
        "<a href=\"https://colab.research.google.com/github/dphents/CarID/blob/master/Car_IDer_.ipynb\" target=\"_parent\"><img src=\"https://colab.research.google.com/assets/colab-badge.svg\" alt=\"Open In Colab\"/></a>"
      ]
    },
    {
      "cell_type": "code",
      "metadata": {
        "id": "TybGUXX0l8Xp",
        "outputId": "79e60f4f-2a56-4abb-f155-ea01d1115091",
        "colab": {
          "base_uri": "https://localhost:8080/",
          "height": 235
        }
      },
      "source": [
        "!pip install -Uqq fastbook\n",
        "import fastbook\n",
        "fastbook.setup_book()"
      ],
      "execution_count": 1,
      "outputs": [
        {
          "output_type": "stream",
          "text": [
            "\u001b[K     |████████████████████████████████| 727kB 6.6MB/s \n",
            "\u001b[K     |████████████████████████████████| 1.0MB 23.3MB/s \n",
            "\u001b[K     |████████████████████████████████| 51kB 7.8MB/s \n",
            "\u001b[K     |████████████████████████████████| 358kB 47.1MB/s \n",
            "\u001b[K     |████████████████████████████████| 61kB 8.2MB/s \n",
            "\u001b[K     |████████████████████████████████| 40kB 6.3MB/s \n",
            "\u001b[K     |████████████████████████████████| 92kB 11.6MB/s \n",
            "\u001b[K     |████████████████████████████████| 40kB 6.2MB/s \n",
            "\u001b[K     |████████████████████████████████| 61kB 9.0MB/s \n",
            "\u001b[K     |████████████████████████████████| 51kB 6.4MB/s \n",
            "\u001b[K     |████████████████████████████████| 2.6MB 47.8MB/s \n",
            "\u001b[?25hMounted at /content/gdrive\n"
          ],
          "name": "stdout"
        }
      ]
    },
    {
      "cell_type": "code",
      "metadata": {
        "id": "8CoLRLCAoeWN"
      },
      "source": [
        "from fastbook import *\n",
        "from fastai.vision.widgets import *"
      ],
      "execution_count": 2,
      "outputs": []
    },
    {
      "cell_type": "markdown",
      "metadata": {
        "id": "XflHWRPvrNTq"
      },
      "source": [
        "Initializes bing API Key that will be used later for the image searching.*italicized text*"
      ]
    },
    {
      "cell_type": "code",
      "metadata": {
        "id": "iISbT54Mo-da"
      },
      "source": [
        "key = '4369b1a900254be3ac75fe5c07c7f164'"
      ],
      "execution_count": 3,
      "outputs": []
    },
    {
      "cell_type": "markdown",
      "metadata": {
        "id": "iEH4Yja3rMBj"
      },
      "source": [
        "Imports csv with all car makes and models from EPA database."
      ]
    },
    {
      "cell_type": "code",
      "metadata": {
        "id": "UkA4mIRqpA7p"
      },
      "source": [
        "import csv\n",
        "\n",
        "with open('carinfo.csv', newline='') as f:\n",
        "    reader = csv.reader(f)\n",
        "    car = list(reader)\n",
        "\n",
        "print(car)"
      ],
      "execution_count": null,
      "outputs": []
    }
  ]
}